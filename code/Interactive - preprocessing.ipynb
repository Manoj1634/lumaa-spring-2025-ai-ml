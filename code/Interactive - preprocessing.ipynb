{
 "cells": [
  {
   "cell_type": "markdown",
   "metadata": {},
   "source": [
    "Connected to new_env (Python 3.9.21)"
   ]
  },
  {
   "cell_type": "code",
   "execution_count": null,
   "id": "27258cf3-a8f8-42b7-bb56-26ed5f7bd47b",
   "metadata": {},
   "outputs": [
    {
     "name": "stdout",
     "output_type": "stream",
     "text": [
      "Duplicates removed. The DataFrame now has 961 rows.\n"
     ]
    }
   ],
   "source": [
    "import pandas as pd\n",
    "import numpy as np\n",
    "#Load the data\n",
    "df=pd.read_csv(\"../data/recipes.csv\")\n",
    "#removing duplicates =df1\n",
    "df1 = df.drop_duplicates(subset='recipe_name', keep='first')\n",
    "df1.to_csv(\"../data/recipes_cleaned.csv\", index=False)\n",
    "\n",
    "print(\"Duplicates removed. The DataFrame now has\", len(df1), \"rows.\")\n",
    "#dropping columns Url and cusine path\n",
    "df1 = df1.drop(columns=['Unnamed: 0', 'img_src', 'cuisine_path', 'prep_time', 'cook_time'])"
   ]
  },
  {
   "cell_type": "code",
   "execution_count": null,
   "id": "818f71ab-4a11-4a19-9463-d9e7777bdd56",
   "metadata": {},
   "outputs": [
    {
     "name": "stdout",
     "output_type": "stream",
     "text": [
      "recipe_name      0\n",
      "total_time      41\n",
      "servings         0\n",
      "yield          167\n",
      "ingredients      0\n",
      "directions       0\n",
      "rating           0\n",
      "url              0\n",
      "nutrition        0\n",
      "timing           0\n",
      "dtype: int64\n"
     ]
    }
   ],
   "source": [
    "#checking for null values\n",
    "nan_counts = df1.isna().sum()\n",
    "print(nan_counts)"
   ]
  },
  {
   "cell_type": "code",
   "execution_count": null,
   "id": "fce48f90-66aa-4c84-ab91-a6f1a81b3c5f",
   "metadata": {},
   "outputs": [
    {
     "name": "stdout",
     "output_type": "stream",
     "text": [
      "The DataFrame now has 961 rows.\n"
     ]
    }
   ],
   "source": [
    "print(\"The DataFrame now has\", len(df1), \"rows.\")"
   ]
  },
  {
   "cell_type": "code",
   "execution_count": null,
   "id": "f19825d1-d983-4d24-be8e-8a53e5906dea",
   "metadata": {},
   "outputs": [
    {
     "data": {
      "text/html": [
       "<div>\n",
       "<style scoped>\n",
       "    .dataframe tbody tr th:only-of-type {\n",
       "        vertical-align: middle;\n",
       "    }\n",
       "\n",
       "    .dataframe tbody tr th {\n",
       "        vertical-align: top;\n",
       "    }\n",
       "\n",
       "    .dataframe thead th {\n",
       "        text-align: right;\n",
       "    }\n",
       "</style>\n",
       "<table border=\"1\" class=\"dataframe\">\n",
       "  <thead>\n",
       "    <tr style=\"text-align: right;\">\n",
       "      <th></th>\n",
       "      <th>recipe_name</th>\n",
       "      <th>total_time</th>\n",
       "      <th>servings</th>\n",
       "      <th>yield</th>\n",
       "      <th>ingredients</th>\n",
       "      <th>directions</th>\n",
       "      <th>rating</th>\n",
       "      <th>url</th>\n",
       "      <th>nutrition</th>\n",
       "      <th>timing</th>\n",
       "    </tr>\n",
       "  </thead>\n",
       "  <tbody>\n",
       "    <tr>\n",
       "      <th>0</th>\n",
       "      <td>Apple-Cranberry Crostada</td>\n",
       "      <td>NaN</td>\n",
       "      <td>8</td>\n",
       "      <td>6 to 8 - servings</td>\n",
       "      <td>3 tablespoons butter, 2 pounds Granny Smith ap...</td>\n",
       "      <td>Heat butter in a large skillet over medium-hig...</td>\n",
       "      <td>4.4</td>\n",
       "      <td>https://www.allrecipes.com/recipe/76931/apple-...</td>\n",
       "      <td>Total Fat 18g 23%, Saturated Fat 7g 34%, Chole...</td>\n",
       "      <td>Servings: 8, Yield: 6 to 8 - servings</td>\n",
       "    </tr>\n",
       "    <tr>\n",
       "      <th>1</th>\n",
       "      <td>Apple Pie by Grandma Ople</td>\n",
       "      <td>1 hrs 30 mins</td>\n",
       "      <td>8</td>\n",
       "      <td>1 9-inch pie</td>\n",
       "      <td>8 small Granny Smith apples, or as needed, ½ c...</td>\n",
       "      <td>Peel and core apples, then thinly slice. Set a...</td>\n",
       "      <td>4.8</td>\n",
       "      <td>https://www.allrecipes.com/recipe/12682/apple-...</td>\n",
       "      <td>Total Fat 19g 24%, Saturated Fat 9g 46%, Chole...</td>\n",
       "      <td>Prep Time: 30 mins, Cook Time: 1 hrs, Total Ti...</td>\n",
       "    </tr>\n",
       "    <tr>\n",
       "      <th>2</th>\n",
       "      <td>Sarah's Homemade Applesauce</td>\n",
       "      <td>25 mins</td>\n",
       "      <td>4</td>\n",
       "      <td>NaN</td>\n",
       "      <td>4  apples - peeled, cored and chopped, ¾ cup w...</td>\n",
       "      <td>Combine apples, water, sugar, and cinnamon in ...</td>\n",
       "      <td>4.8</td>\n",
       "      <td>https://www.allrecipes.com/recipe/51301/sarahs...</td>\n",
       "      <td>Total Fat 0g 0%, Sodium 3mg 0%, Total Carbohyd...</td>\n",
       "      <td>Prep Time: 10 mins, Cook Time: 15 mins, Total ...</td>\n",
       "    </tr>\n",
       "    <tr>\n",
       "      <th>3</th>\n",
       "      <td>Apple Crisp</td>\n",
       "      <td>1 hrs 15 mins</td>\n",
       "      <td>12</td>\n",
       "      <td>1 9x13-inch pan</td>\n",
       "      <td>10 cups all-purpose apples, peeled, cored and ...</td>\n",
       "      <td>Preheat the oven to 350 degrees F (175 degrees...</td>\n",
       "      <td>4.7</td>\n",
       "      <td>https://www.allrecipes.com/recipe/12409/apple-...</td>\n",
       "      <td>Total Fat 8g 11%, Saturated Fat 5g 25%, Choles...</td>\n",
       "      <td>Prep Time: 30 mins, Cook Time: 45 mins, Total ...</td>\n",
       "    </tr>\n",
       "    <tr>\n",
       "      <th>4</th>\n",
       "      <td>Apple Pie Filling</td>\n",
       "      <td>2 hrs 40 mins</td>\n",
       "      <td>40</td>\n",
       "      <td>5 9-inch pies</td>\n",
       "      <td>18 cups thinly sliced apples, 3 tablespoons le...</td>\n",
       "      <td>Toss apples with lemon juice in a large bowl a...</td>\n",
       "      <td>4.7</td>\n",
       "      <td>https://www.allrecipes.com/recipe/12681/apple-...</td>\n",
       "      <td>Total Fat 0g 0%, Sodium 61mg 3%, Total Carbohy...</td>\n",
       "      <td>Prep Time: 20 mins, Cook Time: 20 mins, Additi...</td>\n",
       "    </tr>\n",
       "  </tbody>\n",
       "</table>\n",
       "</div>"
      ],
      "text/plain": [
       "                   recipe_name     total_time  servings              yield  \\\n",
       "0     Apple-Cranberry Crostada            NaN         8  6 to 8 - servings   \n",
       "1    Apple Pie by Grandma Ople  1 hrs 30 mins         8       1 9-inch pie   \n",
       "2  Sarah's Homemade Applesauce        25 mins         4                NaN   \n",
       "3                  Apple Crisp  1 hrs 15 mins        12    1 9x13-inch pan   \n",
       "4            Apple Pie Filling  2 hrs 40 mins        40      5 9-inch pies   \n",
       "\n",
       "                                         ingredients  \\\n",
       "0  3 tablespoons butter, 2 pounds Granny Smith ap...   \n",
       "1  8 small Granny Smith apples, or as needed, ½ c...   \n",
       "2  4  apples - peeled, cored and chopped, ¾ cup w...   \n",
       "3  10 cups all-purpose apples, peeled, cored and ...   \n",
       "4  18 cups thinly sliced apples, 3 tablespoons le...   \n",
       "\n",
       "                                          directions  rating  \\\n",
       "0  Heat butter in a large skillet over medium-hig...     4.4   \n",
       "1  Peel and core apples, then thinly slice. Set a...     4.8   \n",
       "2  Combine apples, water, sugar, and cinnamon in ...     4.8   \n",
       "3  Preheat the oven to 350 degrees F (175 degrees...     4.7   \n",
       "4  Toss apples with lemon juice in a large bowl a...     4.7   \n",
       "\n",
       "                                                 url  \\\n",
       "0  https://www.allrecipes.com/recipe/76931/apple-...   \n",
       "1  https://www.allrecipes.com/recipe/12682/apple-...   \n",
       "2  https://www.allrecipes.com/recipe/51301/sarahs...   \n",
       "3  https://www.allrecipes.com/recipe/12409/apple-...   \n",
       "4  https://www.allrecipes.com/recipe/12681/apple-...   \n",
       "\n",
       "                                           nutrition  \\\n",
       "0  Total Fat 18g 23%, Saturated Fat 7g 34%, Chole...   \n",
       "1  Total Fat 19g 24%, Saturated Fat 9g 46%, Chole...   \n",
       "2  Total Fat 0g 0%, Sodium 3mg 0%, Total Carbohyd...   \n",
       "3  Total Fat 8g 11%, Saturated Fat 5g 25%, Choles...   \n",
       "4  Total Fat 0g 0%, Sodium 61mg 3%, Total Carbohy...   \n",
       "\n",
       "                                              timing  \n",
       "0              Servings: 8, Yield: 6 to 8 - servings  \n",
       "1  Prep Time: 30 mins, Cook Time: 1 hrs, Total Ti...  \n",
       "2  Prep Time: 10 mins, Cook Time: 15 mins, Total ...  \n",
       "3  Prep Time: 30 mins, Cook Time: 45 mins, Total ...  \n",
       "4  Prep Time: 20 mins, Cook Time: 20 mins, Additi...  "
      ]
     },
     "execution_count": 4,
     "metadata": {},
     "output_type": "execute_result"
    }
   ],
   "source": [
    "df1.head()"
   ]
  },
  {
   "cell_type": "code",
   "execution_count": null,
   "id": "5dea43d4-9ea0-458e-8f43-86ef2f8d56cb",
   "metadata": {},
   "outputs": [
    {
     "name": "stdout",
     "output_type": "stream",
     "text": [
      "Duplicates removed. The DataFrame now has 961 rows.\n"
     ]
    }
   ],
   "source": [
    "import pandas as pd\n",
    "import numpy as np\n",
    "#Load the data\n",
    "df=pd.read_csv(\"../data/recipes.csv\")\n",
    "#removing duplicates =df1\n",
    "df1 = df.drop_duplicates(subset='recipe_name', keep='first')\n",
    "df1.to_csv(\"../data/recipes_cleaned.csv\", index=False)\n",
    "\n",
    "print(\"Duplicates removed. The DataFrame now has\", len(df1), \"rows.\")\n",
    "#dropping columns Url and cusine path\n",
    "df1 = df1.drop(columns=['Unnamed: 0', 'img_src', 'cuisine_path', 'prep_time', 'cook_time'])"
   ]
  },
  {
   "cell_type": "code",
   "execution_count": null,
   "id": "8f7a70b3-546c-4665-b36e-9c02b0ea7f13",
   "metadata": {},
   "outputs": [
    {
     "name": "stdout",
     "output_type": "stream",
     "text": [
      "recipe_name      0\n",
      "total_time      41\n",
      "servings         0\n",
      "yield          167\n",
      "ingredients      0\n",
      "directions       0\n",
      "rating           0\n",
      "url              0\n",
      "nutrition        0\n",
      "timing           0\n",
      "dtype: int64\n"
     ]
    }
   ],
   "source": [
    "#checking for null values\n",
    "nan_counts = df1.isna().sum()\n",
    "print(nan_counts)"
   ]
  },
  {
   "cell_type": "code",
   "execution_count": null,
   "id": "e942cd10-c6c1-4b2d-8ff4-be67f970ece8",
   "metadata": {},
   "outputs": [],
   "source": [
    "#Handling missing values in time and yield\n",
    "#function to convert time from hrs to minutes\n",
    "import re\n",
    "\n",
    "def convert_to_minutes(time_str):\n",
    "    if pd.isna(time_str):\n",
    "        return 'missing'  # Return 'missing' for NaN values\n",
    "\n",
    "    # Regular expressions to find hours and minutes\n",
    "    hours = re.search(r'(\\d+)\\s*hr', time_str)\n",
    "    minutes = re.search(r'(\\d+)\\s*min', time_str)\n",
    "    \n",
    "    total_minutes = 0\n",
    "    if hours:\n",
    "        total_minutes += int(hours.group(1)) * 60\n",
    "    if minutes:\n",
    "        total_minutes += int(minutes.group(1))\n",
    "    \n",
    "    return total_minutes\n",
    "\n",
    "df1['total_time'] = df1['total_time'].apply(convert_to_minutes)\n",
    "df1['yield'] = df1['yield'].fillna('missing')"
   ]
  },
  {
   "cell_type": "code",
   "execution_count": null,
   "id": "29bcbdaa-b642-48b8-b8f3-46cb09b53edc",
   "metadata": {},
   "outputs": [
    {
     "name": "stdout",
     "output_type": "stream",
     "text": [
      "The DataFrame now has 961 rows.\n"
     ]
    }
   ],
   "source": [
    "print(\"The DataFrame now has\", len(df1), \"rows.\")"
   ]
  },
  {
   "cell_type": "code",
   "execution_count": null,
   "id": "592e22af-4b59-46c7-8143-82f9dcc6d0c5",
   "metadata": {},
   "outputs": [],
   "source": [
    "# combining both ingredients and directions together on one columns and removing the duplicates for avoiding future errors\n",
    "def combine_and_remove_duplicates(ingredients, directions):\n",
    "    # Combine both strings and split into words\n",
    "    combined = f\"{ingredients} {directions}\".lower()\n",
    "    words = combined.split()\n",
    "    \n",
    "    # Remove duplicates by converting the list to a set and back to list\n",
    "    unique_words = list(set(words))\n",
    "    \n",
    "    # Join the unique words back into a single string\n",
    "    return ' '.join(unique_words)\n",
    "\n",
    "# Apply the function to create a new column\n",
    "df1['combined_ingredients_directions'] = df1.apply(lambda x: combine_and_remove_duplicates(x['ingredients'], x['directions']), axis=1)"
   ]
  },
  {
   "cell_type": "code",
   "execution_count": null,
   "id": "138dd13b-b33a-47d6-b70e-2924253f0a37",
   "metadata": {},
   "outputs": [
    {
     "name": "stdout",
     "output_type": "stream",
     "text": [
      "Ingredients:\n",
      " 3 tablespoons butter, 2 pounds Granny Smith apples (or other firm, crisp apples), peeled, quartered, cored and sliced 1/4-inch thick, 1 pound Macintosh apples (or other soft-textured apples that fall apart when cooked), peeled, quartered, cored, and sliced 1/4-inch thick, ½ cup sugar, ½ cup dried cranberries, 1 sheet frozen puff pastry, thawed but still cold (follow package directions), 1  egg white, lightly beaten, 1 tablespoon sugar, 1 cup Optional: Ice cream or lightly sweetened whipped cream\n",
      "\n",
      "Directions:\n",
      " Heat butter in a large skillet over medium-high heat. Add apples, 1/2 cup sugar and cranberries; cover and cook until apples release their liquid, about 5 minutes. Remove lid and continue to cook, stirring frequently, until soft apples fall apart and juices thicken to a thin-syrup consistency, about 5 minutes longer. Pour onto a large-lipped cookie sheet or jellyroll pan and cool to room temperature. (Can be refrigerated in an airtight container up to 5 days.)\n",
      "Adjust oven rack to low position and heat oven to 400 degrees. Open puff pastry sheet on a lightly floured work surface. Roll into a rectangle, about 10 by 16 inches. Transfer to a large cookie sheet. (I suggest lining the sheet with parchment paper; this ensures the crostada doesn't stick and allows easy cleanup.)\n",
      "Spread cooked apples over pastry, leaving a 2-inch border. Fold up pastry borders over apples. Unfold corners and form ruffled creases to keep dough from overlapping. Brush pastry border with egg white and sprinkle with the remaining 1 Tb. sugar. Bake until pastry is golden brown, 25 to 30 minutes. Serve warm or at room temperature with optional ice cream or whipped cream.\n",
      "\n",
      "Combined Ingredients and Directions:\n",
      " thicken airtight rectangle, warm lining frozen bake cream. their cranberries, granny temperature to 5 sliced over thawed 1/2 when apart room cook, fall still sweetened surface. doesn't pound 1 corners floured white, thick, skillet pan cover crostada parchment (follow overlapping. that container is continue (or from 25 form and cook large border. transfer remaining (can days.) inches. leaving crisp adjust a the 16 dough cream puff pastry, heat refrigerated (i cool butter creases rack golden apples), ensures package paper; frequently, remove degrees. cookie 30 add pastry in jellyroll into cold until juices longer. temperature. whipped cranberries; egg 10 sheet. 2 beaten, pour stick sugar. cored, sheet apples. cooked), roll but release an sugar, optional: up liquid, at ½ dried peeled, cored tablespoon easy by low position keep white cleanup.) tablespoons with oven medium-high butter, thin-syrup optional work or macintosh other 3 cooked large-lipped allows apples this cup ruffled 2-inch open be smith pounds quartered, tb. brown, onto minutes soft stirring apples, unfold about directions), consistency, spread serve 1/4-inch lightly fold ice brush firm, on borders border suggest sugar sprinkle soft-textured 400 minutes. lid heat.\n"
     ]
    }
   ],
   "source": [
    "# testing how our feature looks\n",
    "row_index = 0  # Index of the row you want to inspect\n",
    "row_data = df1.loc[row_index, ['ingredients', 'directions', 'combined_ingredients_directions']]\n",
    "print(\"Ingredients:\\n\", row_data['ingredients'])\n",
    "print(\"\\nDirections:\\n\", row_data['directions'])\n",
    "print(\"\\nCombined Ingredients and Directions:\\n\", row_data['combined_ingredients_directions'])"
   ]
  },
  {
   "cell_type": "code",
   "execution_count": null,
   "id": "7cc917aa-6760-44cd-b1e1-9dd0deaa4e43",
   "metadata": {},
   "outputs": [],
   "source": [
    "import re\n",
    "import nltk\n",
    "from nltk.corpus import stopwords\n",
    "from nltk.stem import PorterStemmer, WordNetLemmatizer\n",
    "from nltk.tokenize import word_tokenize\n",
    "import spacy"
   ]
  },
  {
   "cell_type": "code",
   "execution_count": null,
   "id": "0f42b7a8-b7b2-45e2-a902-ebe5875e4503",
   "metadata": {},
   "outputs": [
    {
     "name": "stderr",
     "output_type": "stream",
     "text": [
      "[nltk_data] Downloading package punkt to\n",
      "[nltk_data]     /Users/manojpadala/nltk_data...\n",
      "[nltk_data]   Package punkt is already up-to-date!\n",
      "[nltk_data] Downloading package stopwords to\n",
      "[nltk_data]     /Users/manojpadala/nltk_data...\n",
      "[nltk_data]   Package stopwords is already up-to-date!\n",
      "[nltk_data] Downloading package wordnet to\n",
      "[nltk_data]     /Users/manojpadala/nltk_data...\n",
      "[nltk_data]   Package wordnet is already up-to-date!\n"
     ]
    }
   ],
   "source": [
    "# Download necessary NLTK resources\n",
    "nltk.download('punkt')\n",
    "nltk.download('stopwords')\n",
    "nltk.download('wordnet')\n",
    "# Load SpaCy's English tokenizer, tagger, parser, NER, and word vectors\n",
    "nlp = spacy.load('en_core_web_sm')\n",
    "\n",
    "# Initialize NLTK's Porter Stemmer\n",
    "stemmer = PorterStemmer()\n",
    "\n",
    "# Ensure contractions is installed\n",
    "# pip install contractions\n",
    "nlp = spacy.load('en_core_web_sm')\n",
    "\n",
    "def preprocess_text_spacy(text):\n",
    "    # Process the text with SpaCy\n",
    "    text = re.sub(r'[^\\x00-\\x7F]+', ' ', text)\n",
    "    # Remove numbers and specific punctuations like parentheses\n",
    "    text = re.sub(r'\\d+', '', text)  # Remove digits\n",
    "    text = re.sub(r'[^\\w\\s]', '', text)  # Remove punctuation except for underscores and spaces\n",
    "\n",
    "    doc = nlp(text)\n",
    "    \n",
    "    # List comprehension for processing tokens\n",
    "    tokens = [\n",
    "        token.lemma_.lower()  # Apply lowercasing to the lemmatized token\n",
    "        for token in doc\n",
    "        if not token.is_stop and not token.is_punct and token.pos_ != 'PRON'\n",
    "    ]\n",
    "    \n",
    "    # Join the tokens back into a single string\n",
    "    return ' '.join(tokens)"
   ]
  },
  {
   "cell_type": "code",
   "execution_count": null,
   "id": "20f18c42-e96a-4e5b-83e0-9579b72bb6c9",
   "metadata": {},
   "outputs": [],
   "source": [
    "# Apply preprocessing\n",
    "df1['processed_ingredients_directions'] = df1['combined_ingredients_directions'].apply(preprocess_text_spacy)"
   ]
  },
  {
   "cell_type": "code",
   "execution_count": null,
   "id": "3b77bf1f-61e3-4948-b1b1-3d9b0fbbb388",
   "metadata": {},
   "outputs": [],
   "source": [
    "df1.drop('combined_ingredients_directions', axis=1, inplace=True)"
   ]
  },
  {
   "cell_type": "code",
   "execution_count": null,
   "id": "08f4f08c-a6ed-4ff0-bd35-b5854f55f82e",
   "metadata": {},
   "outputs": [],
   "source": [
    "df1['processed_ingredients'] = df1['ingredients'].apply(preprocess_text_spacy)\n",
    "def remove_duplicate_words(text):\n",
    "    words = text.split()\n",
    "    seen = set()\n",
    "    seen_add = seen.add\n",
    "    # Add to seen and keep only unseen words to preserve order\n",
    "    unique_words = [x for x in words if not (x in seen or seen_add(x))]\n",
    "    return ' '.join(unique_words)\n",
    "df1['processed_ingredients'] = df1['processed_ingredients'].apply(remove_duplicate_words)"
   ]
  },
  {
   "cell_type": "code",
   "execution_count": null,
   "id": "e21086f8-f239-471d-82c8-9a2fdf55ddde",
   "metadata": {},
   "outputs": [
    {
     "data": {
      "text/html": [
       "<div>\n",
       "<style scoped>\n",
       "    .dataframe tbody tr th:only-of-type {\n",
       "        vertical-align: middle;\n",
       "    }\n",
       "\n",
       "    .dataframe tbody tr th {\n",
       "        vertical-align: top;\n",
       "    }\n",
       "\n",
       "    .dataframe thead th {\n",
       "        text-align: right;\n",
       "    }\n",
       "</style>\n",
       "<table border=\"1\" class=\"dataframe\">\n",
       "  <thead>\n",
       "    <tr style=\"text-align: right;\">\n",
       "      <th></th>\n",
       "      <th>recipe_name</th>\n",
       "      <th>total_time</th>\n",
       "      <th>servings</th>\n",
       "      <th>yield</th>\n",
       "      <th>ingredients</th>\n",
       "      <th>directions</th>\n",
       "      <th>rating</th>\n",
       "      <th>url</th>\n",
       "      <th>nutrition</th>\n",
       "      <th>timing</th>\n",
       "      <th>processed_ingredients_directions</th>\n",
       "      <th>processed_ingredients</th>\n",
       "    </tr>\n",
       "  </thead>\n",
       "  <tbody>\n",
       "    <tr>\n",
       "      <th>0</th>\n",
       "      <td>Apple-Cranberry Crostada</td>\n",
       "      <td>missing</td>\n",
       "      <td>8</td>\n",
       "      <td>6 to 8 - servings</td>\n",
       "      <td>3 tablespoons butter, 2 pounds Granny Smith ap...</td>\n",
       "      <td>Heat butter in a large skillet over medium-hig...</td>\n",
       "      <td>4.4</td>\n",
       "      <td>https://www.allrecipes.com/recipe/76931/apple-...</td>\n",
       "      <td>Total Fat 18g 23%, Saturated Fat 7g 34%, Chole...</td>\n",
       "      <td>Servings: 8, Yield: 6 to 8 - servings</td>\n",
       "      <td>thicken airtight rectangle warm lining frozen ...</td>\n",
       "      <td>tablespoon butter pound granny smith apple fir...</td>\n",
       "    </tr>\n",
       "    <tr>\n",
       "      <th>1</th>\n",
       "      <td>Apple Pie by Grandma Ople</td>\n",
       "      <td>90</td>\n",
       "      <td>8</td>\n",
       "      <td>1 9-inch pie</td>\n",
       "      <td>8 small Granny Smith apples, or as needed, ½ c...</td>\n",
       "      <td>Peel and core apples, then thinly slice. Set a...</td>\n",
       "      <td>4.8</td>\n",
       "      <td>https://www.allrecipes.com/recipe/12682/apple-...</td>\n",
       "      <td>Total Fat 19g 24%, Saturated Fat 9g 46%, Chole...</td>\n",
       "      <td>Prep Time: 30 mins, Cook Time: 1 hrs, Total Ti...</td>\n",
       "      <td>inch need evenly   bake small   temperature gr...</td>\n",
       "      <td>small granny smith apple need cup unsalted but...</td>\n",
       "    </tr>\n",
       "    <tr>\n",
       "      <th>2</th>\n",
       "      <td>Sarah's Homemade Applesauce</td>\n",
       "      <td>25</td>\n",
       "      <td>4</td>\n",
       "      <td>missing</td>\n",
       "      <td>4  apples - peeled, cored and chopped, ¾ cup w...</td>\n",
       "      <td>Combine apples, water, sugar, and cinnamon in ...</td>\n",
       "      <td>4.8</td>\n",
       "      <td>https://www.allrecipes.com/recipe/51301/sarahs...</td>\n",
       "      <td>Total Fat 0g 0%, Sodium 3mg 0%, Total Carbohyd...</td>\n",
       "      <td>Prep Time: 10 mins, Cook Time: 15 mins, Total ...</td>\n",
       "      <td>apple mixture cup ground cook    like potato c...</td>\n",
       "      <td>apple peel core chop cup water white sugar tea...</td>\n",
       "    </tr>\n",
       "    <tr>\n",
       "      <th>3</th>\n",
       "      <td>Apple Crisp</td>\n",
       "      <td>75</td>\n",
       "      <td>12</td>\n",
       "      <td>1 9x13-inch pan</td>\n",
       "      <td>10 cups all-purpose apples, peeled, cored and ...</td>\n",
       "      <td>Preheat the oven to 350 degrees F (175 degrees...</td>\n",
       "      <td>4.7</td>\n",
       "      <td>https://www.allrecipes.com/recipe/12409/apple-...</td>\n",
       "      <td>Total Fat 8g 11%, Saturated Fat 5g 25%, Choles...</td>\n",
       "      <td>Prep Time: 30 mins, Cook Time: 45 mins, Total ...</td>\n",
       "      <td>evenly   soda bake dish slice cinnamon water  ...</td>\n",
       "      <td>cup allpurpose apple peel core slice white sug...</td>\n",
       "    </tr>\n",
       "    <tr>\n",
       "      <th>4</th>\n",
       "      <td>Apple Pie Filling</td>\n",
       "      <td>160</td>\n",
       "      <td>40</td>\n",
       "      <td>5 9-inch pies</td>\n",
       "      <td>18 cups thinly sliced apples, 3 tablespoons le...</td>\n",
       "      <td>Toss apples with lemon juice in a large bowl a...</td>\n",
       "      <td>4.7</td>\n",
       "      <td>https://www.allrecipes.com/recipe/12681/apple-...</td>\n",
       "      <td>Total Fat 0g 0%, Sodium 61mg 3%, Total Carbohy...</td>\n",
       "      <td>Prep Time: 20 mins, Cook Time: 20 mins, Additi...</td>\n",
       "      <td>temperature     sliced salt simmer   constantl...</td>\n",
       "      <td>cup thinly slice apple tablespoon lemon juice ...</td>\n",
       "    </tr>\n",
       "  </tbody>\n",
       "</table>\n",
       "</div>"
      ],
      "text/plain": [
       "                   recipe_name total_time  servings              yield  \\\n",
       "0     Apple-Cranberry Crostada    missing         8  6 to 8 - servings   \n",
       "1    Apple Pie by Grandma Ople         90         8       1 9-inch pie   \n",
       "2  Sarah's Homemade Applesauce         25         4            missing   \n",
       "3                  Apple Crisp         75        12    1 9x13-inch pan   \n",
       "4            Apple Pie Filling        160        40      5 9-inch pies   \n",
       "\n",
       "                                         ingredients  \\\n",
       "0  3 tablespoons butter, 2 pounds Granny Smith ap...   \n",
       "1  8 small Granny Smith apples, or as needed, ½ c...   \n",
       "2  4  apples - peeled, cored and chopped, ¾ cup w...   \n",
       "3  10 cups all-purpose apples, peeled, cored and ...   \n",
       "4  18 cups thinly sliced apples, 3 tablespoons le...   \n",
       "\n",
       "                                          directions  rating  \\\n",
       "0  Heat butter in a large skillet over medium-hig...     4.4   \n",
       "1  Peel and core apples, then thinly slice. Set a...     4.8   \n",
       "2  Combine apples, water, sugar, and cinnamon in ...     4.8   \n",
       "3  Preheat the oven to 350 degrees F (175 degrees...     4.7   \n",
       "4  Toss apples with lemon juice in a large bowl a...     4.7   \n",
       "\n",
       "                                                 url  \\\n",
       "0  https://www.allrecipes.com/recipe/76931/apple-...   \n",
       "1  https://www.allrecipes.com/recipe/12682/apple-...   \n",
       "2  https://www.allrecipes.com/recipe/51301/sarahs...   \n",
       "3  https://www.allrecipes.com/recipe/12409/apple-...   \n",
       "4  https://www.allrecipes.com/recipe/12681/apple-...   \n",
       "\n",
       "                                           nutrition  \\\n",
       "0  Total Fat 18g 23%, Saturated Fat 7g 34%, Chole...   \n",
       "1  Total Fat 19g 24%, Saturated Fat 9g 46%, Chole...   \n",
       "2  Total Fat 0g 0%, Sodium 3mg 0%, Total Carbohyd...   \n",
       "3  Total Fat 8g 11%, Saturated Fat 5g 25%, Choles...   \n",
       "4  Total Fat 0g 0%, Sodium 61mg 3%, Total Carbohy...   \n",
       "\n",
       "                                              timing  \\\n",
       "0              Servings: 8, Yield: 6 to 8 - servings   \n",
       "1  Prep Time: 30 mins, Cook Time: 1 hrs, Total Ti...   \n",
       "2  Prep Time: 10 mins, Cook Time: 15 mins, Total ...   \n",
       "3  Prep Time: 30 mins, Cook Time: 45 mins, Total ...   \n",
       "4  Prep Time: 20 mins, Cook Time: 20 mins, Additi...   \n",
       "\n",
       "                    processed_ingredients_directions  \\\n",
       "0  thicken airtight rectangle warm lining frozen ...   \n",
       "1  inch need evenly   bake small   temperature gr...   \n",
       "2  apple mixture cup ground cook    like potato c...   \n",
       "3  evenly   soda bake dish slice cinnamon water  ...   \n",
       "4  temperature     sliced salt simmer   constantl...   \n",
       "\n",
       "                               processed_ingredients  \n",
       "0  tablespoon butter pound granny smith apple fir...  \n",
       "1  small granny smith apple need cup unsalted but...  \n",
       "2  apple peel core chop cup water white sugar tea...  \n",
       "3  cup allpurpose apple peel core slice white sug...  \n",
       "4  cup thinly slice apple tablespoon lemon juice ...  "
      ]
     },
     "execution_count": 16,
     "metadata": {},
     "output_type": "execute_result"
    }
   ],
   "source": [
    "df1.head()"
   ]
  }
 ],
 "metadata": {
  "kernelspec": {
   "display_name": "new_env",
   "language": "python",
   "name": "python3"
  },
  "language_info": {
   "name": "python",
   "version": "3.9.21"
  }
 },
 "nbformat": 4,
 "nbformat_minor": 2
}
